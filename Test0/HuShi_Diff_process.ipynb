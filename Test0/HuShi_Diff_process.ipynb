{
 "cells": [
  {
   "cell_type": "code",
   "execution_count": 2,
   "metadata": {},
   "outputs": [],
   "source": [
    "import cv2\n",
    "import numpy as np\n",
    "import matplotlib.pyplot as plt\n",
    "from libtiff import TIFF\n",
    "import torch.nn.functional as F\n",
    "import torch\n",
    "import numpy as np\n",
    "from torch.nn import functional as F\n",
    "import os\n",
    "import torch.optim as optim\n",
    "import torch.nn as nn\n",
    "from libtiff import TIFF\n",
    "from torch.utils.data import Dataset, DataLoader\n",
    "import torch.optim as optim\n",
    "import random\n",
    "import math"
   ]
  },
  {
   "cell_type": "code",
   "execution_count": 3,
   "metadata": {},
   "outputs": [
    {
     "name": "stdout",
     "output_type": "stream",
     "text": [
      "test_label数组： [[0 0 0 ... 0 0 0]\n",
      " [0 0 0 ... 0 0 0]\n",
      " [0 0 0 ... 0 0 0]\n",
      " ...\n",
      " [0 0 0 ... 0 0 0]\n",
      " [0 0 0 ... 0 0 0]\n",
      " [0 0 0 ... 0 0 0]]\n"
     ]
    }
   ],
   "source": [
    "def to_tensor(image):\n",
    "    max_i = np.max(image)\n",
    "    min_i = np.min(image)\n",
    "    image = (image - min_i) / (max_i - min_i)\n",
    "    return image\n",
    "\n",
    "\n",
    "def split(pan, size):\n",
    "    st = []\n",
    "    for i in range(size):\n",
    "        for j in range(size):\n",
    "            st.append(pan[i::size,j::size])\n",
    "    return np.array(st)\n",
    "\n",
    "\n",
    "def setup_seed(seed):\n",
    "     torch.manual_seed(seed)\n",
    "     torch.cuda.manual_seed_all(seed)\n",
    "     np.random.seed(seed)\n",
    "     random.seed(seed)\n",
    "     torch.backends.cudnn.deterministic = True\n",
    "def kappa(confusion_matrix, k):\n",
    "    dataMat = np.mat(confusion_matrix)\n",
    "    P0 = 0.0\n",
    "    for i in range(k):\n",
    "        P0 += dataMat[i, i]*1.0\n",
    "    xsum = np.sum(dataMat, axis=1)\n",
    "    ysum = np.sum(dataMat, axis=0)\n",
    "    Pe  = float(ysum*xsum)/np.sum(dataMat)**2\n",
    "    OA = float(P0/np.sum(dataMat)*1.0)\n",
    "    cohens_coefficient = float((OA-Pe)/(1-Pe))\n",
    "    return cohens_coefficient\n",
    "# 设置随机数种子\n",
    "test_label_np = np.load(\"../dataset/test.npy\")\n",
    "print('test_label数组：', test_label_np)"
   ]
  },
  {
   "cell_type": "code",
   "execution_count": 4,
   "metadata": {},
   "outputs": [
    {
     "name": "stdout",
     "output_type": "stream",
     "text": [
      "if_cuda= True\n",
      "gpu_count= 1\n"
     ]
    }
   ],
   "source": [
    "# 1.定义网络超参数\n",
    "setup_seed(3407)\n",
    "EPOCH = 30  # 训练多少轮次\n",
    "BATCH_SIZE =128# 每次喂给的数据量\n",
    "LR = 0.0012 # 学习率\n",
    "Train_Rate = 1  # 将训练集和测试集按比例分开\n",
    "os.environ['CUDA_VISIBLE_DEVICES'] = '0'   # 是否用GPU环视cpu训练\n",
    "\n",
    "if_cuda = torch.cuda.is_available()\n",
    "print(\"if_cuda=\",if_cuda)\n",
    "gpu_count = torch.cuda.device_count()\n",
    "print(\"gpu_count=\",gpu_count)"
   ]
  },
  {
   "cell_type": "code",
   "execution_count": 6,
   "metadata": {},
   "outputs": [
    {
     "name": "stdout",
     "output_type": "stream",
     "text": [
      "(8004, 8404, 4) float32 108.234375 999.0\n",
      "(8004, 8404) float32 0.0 1023.0\n",
      "label数组形状： (2001, 2101)\n",
      "train_label数组形状： (2001, 2101)\n",
      "test_label数组形状： (2001, 2101)\n"
     ]
    }
   ],
   "source": [
    "ms4_np = TIFF.open('../dataset/ms4.tif', mode='r').read_image().astype(\"float32\")\n",
    "ms4_np = cv2.resize(ms4_np, dsize=None, fx=4, fy=4, interpolation=cv2.INTER_LINEAR)\n",
    "print(ms4_np.shape, ms4_np.dtype, np.min(ms4_np), np.max(ms4_np))\n",
    "\n",
    "pan_np = TIFF.open('../dataset/pan.tif', mode='r').read_image().astype(\"float32\")\n",
    "print(pan_np.shape, pan_np.dtype, np.min(pan_np), np.max(pan_np))\n",
    "\n",
    "label_np = np.load(\"../dataset/label.npy\")\n",
    "print('label数组形状：', np.shape(label_np))\n",
    "\n",
    "train_label_np = np.load(\"../dataset/train.npy\")\n",
    "print('train_label数组形状：', np.shape(train_label_np))\n",
    "\n",
    "test_label_np = np.load(\"../dataset/test.npy\")\n",
    "print('test_label数组形状：', np.shape(test_label_np))\n",
    "\n",
    "#train_bit_map = np.load(\"./dataset/train_bit_map.npy\")\n",
    "\n",
    "#test_bit_map = np.load(\"./dataset/test_bit_map.npy\")"
   ]
  },
  {
   "cell_type": "code",
   "execution_count": 7,
   "metadata": {},
   "outputs": [
    {
     "name": "stdout",
     "output_type": "stream",
     "text": [
      "补零后的ms4_np图的形状： (8067, 8467, 4)\n",
      "补零后的pan_np 图的形状： (8067, 8467)\n"
     ]
    }
   ],
   "source": [
    "# ms4与pan图补零  (给图片加边框）\n",
    "Ms4_patch_size = 64 # ms4截块的边长\n",
    "Interpolation = cv2.BORDER_REFLECT_101\n",
    "# cv2.BORDER_REPLICATE： 进行复制的补零操作;\n",
    "# cv2.BORDER_REFLECT:  进行翻转的补零操作:gfedcba|abcdefgh|hgfedcb;\n",
    "# cv2.BORDER_REFLECT_101： 进行翻转的补零操作:gfedcb|abcdefgh|gfedcb;\n",
    "# cv2.BORDER_WRAP: 进行上下边缘调换的外包复制操作:bcdefgh|abcdefgh|abcdefg;\n",
    "\n",
    "top_size, bottom_size, left_size, right_size = (int(Ms4_patch_size / 2 - 1), int(Ms4_patch_size / 2),\n",
    "                                                int(Ms4_patch_size / 2 - 1), int(Ms4_patch_size / 2))\n",
    "ms4_np = cv2.copyMakeBorder(ms4_np, top_size, bottom_size, left_size, right_size, Interpolation)\n",
    "print('补零后的ms4_np图的形状：', np.shape(ms4_np))\n",
    "\n",
    "Pan_patch_size = Ms4_patch_size   # pan截块的边长\n",
    "top_size, bottom_size, left_size, right_size = (int(Pan_patch_size / 2 - 1), int(Pan_patch_size / 2),\n",
    "                                                int(Pan_patch_size / 2 - 1), int(Pan_patch_size / 2))\n",
    "pan_np = cv2.copyMakeBorder(pan_np , top_size, bottom_size, left_size, right_size, Interpolation)\n",
    "print('补零后的pan_np 图的形状：', np.shape(pan_np ))#长和宽都比原先多了31，即Ms4_patch_size-1"
   ]
  },
  {
   "cell_type": "code",
   "execution_count": 8,
   "metadata": {},
   "outputs": [
    {
     "name": "stdout",
     "output_type": "stream",
     "text": [
      "类标： [  0   1   2   3   4   5   6   7   8   9  10 255]\n",
      "各类样本数： [  34000   66306   75715   33872  102520  103270   45549   51603   64911\n",
      "   40471   33947 3551937]\n",
      "标注的类别数： 11\n"
     ]
    }
   ],
   "source": [
    "# 按类别比例拆分数据集\n",
    "# label_np=label_np.astype(np.uint8)\n",
    "label_np = label_np - 1  # 标签中0类标签是未标注的像素，通过减一后将类别归到0-N，而未标注类标签变为255\n",
    "label_element, element_count = np.unique(label_np, return_counts=True)  # 返回类别标签与各个类别所占的数量\n",
    "print('类标：', label_element)\n",
    "print('各类样本数：', element_count)\n",
    "Categories_Number = len(label_element) - 1  # 数据的类别数\n",
    "print('标注的类别数：', Categories_Number)\n",
    "label_row, label_column = np.shape(label_np)  # 获取标签图的行、列\n",
    "\n"
   ]
  },
  {
   "cell_type": "code",
   "execution_count": 9,
   "metadata": {},
   "outputs": [
    {
     "name": "stdout",
     "output_type": "stream",
     "text": [
      "类标： [  0   1   2   3   4   5   6   7   8   9  10 255]\n",
      "各类样本数： [    728    1437    1483     729    2159    2011    1115    1014     774\n",
      "     773     738 4191140]\n",
      "标注的类别数： 11\n"
     ]
    }
   ],
   "source": [
    "# 按类别比例拆分数据集\n",
    "#train_label_np数组形状： (2001, 2101)\n",
    "#test_label_np数组形状： (2001, 2101)\n",
    "# label_np=label_np.astype(np.uint8)\n",
    "train_label_np = train_label_np - 1  # 标签中0类标签是未标注的像素，通过减一后将类别归到0-N，而未标注类标签变为255\n",
    "train_label_element, train_element_count = np.unique(train_label_np, return_counts=True)  # 返回类别标签与各个类别所占的数量\n",
    "print('类标：', train_label_element)\n",
    "print('各类样本数：', train_element_count)\n",
    "train_Categories_Number = len(train_label_element) - 1  # 数据的类别数\n",
    "print('标注的类别数：', train_Categories_Number)\n",
    "train_label_row, train_label_column = np.shape(train_label_np)  # 获取标签图的行、列"
   ]
  },
  {
   "cell_type": "code",
   "execution_count": 10,
   "metadata": {},
   "outputs": [
    {
     "name": "stdout",
     "output_type": "stream",
     "text": [
      "类标： [  0   1   2   3   4   5   6   7   8   9  10 255]\n",
      "各类样本数： [  14952   38429   25548   10998   50252   41963   29471   15199   30652\n",
      "    7825    8756 3930056]\n",
      "标注的类别数： 11\n"
     ]
    }
   ],
   "source": [
    "# 按类别比例拆分数据集\n",
    "# label_np=label_np.astype(np.uint8)\n",
    "test_label_np = test_label_np - 1  # 标签中0类标签是未标注的像素，通过减一后将类别归到0-N，而未标注类标签变为255\n",
    "test_label_element, test_element_count = np.unique(test_label_np, return_counts=True)  # 返回类别标签与各个类别所占的数量\n",
    "print('类标：', test_label_element)\n",
    "print('各类样本数：', test_element_count)\n",
    "test_Categories_Number = len(test_label_element) - 1  # 数据的类别数\n",
    "print('标注的类别数：', test_Categories_Number)\n",
    "test_label_row, test_label_column = np.shape(test_label_np)  # 获取标签图的行、列"
   ]
  },
  {
   "cell_type": "code",
   "execution_count": 15,
   "metadata": {},
   "outputs": [],
   "source": [
    "'''归一化图片'''\n",
    "def to_tensor(image):\n",
    "    max_i = np.max(image)\n",
    "    min_i = np.min(image)\n",
    "    image = (image - min_i) / (max_i - min_i)\n",
    "    return image\n",
    "ground_xy = np.array([[]] * Categories_Number).tolist()   # [[],[],[],[],[],[],[]]  7个类别\n",
    "ground_xy_train = np.array([[]] * Categories_Number).tolist()   # [[],[],[],[],[],[],[]]  7个类别\n",
    "ground_xy_test = np.array([[]] * Categories_Number).tolist()   # [[],[],[],[],[],[],[]]  7个类别\n",
    "ground_xy_allData = np.arange(label_row * label_column * 2).reshape(label_row * label_column, 2)  # [800*830, 2] 二维数组\n",
    "ground_xy_trainallData = np.arange(train_label_row * train_label_column * 2).reshape(train_label_row * train_label_column, 2)  # [800*830, 2] 二维数组\n",
    "ground_xy_testallData = np.arange(test_label_row * test_label_column * 2).reshape(test_label_row * test_label_column, 2)  # [800*830, 2] 二维数组"
   ]
  },
  {
   "cell_type": "code",
   "execution_count": 16,
   "metadata": {},
   "outputs": [
    {
     "name": "stdout",
     "output_type": "stream",
     "text": [
      "训练样本数： 12961\n",
      "测试样本数： 274045\n"
     ]
    }
   ],
   "source": [
    "count0 = 0\n",
    "count1 = 0\n",
    "count2 = 0\n",
    "for row in range(label_row):  \n",
    "    for column in range(label_column):\n",
    "        ground_xy_allData[count0] = [row, column]\n",
    "        count0 = count0 + 1\n",
    "        if label_np[row][column] != 255:\n",
    "            #catego = int(label_np[row][column])\n",
    "            # 使用 np.append() 向 ground_xy 数组追加坐标\n",
    "            #ground_xy[catego] = np.append(ground_xy[catego], np.array([[row, column]]), axis=0)\n",
    "\n",
    "            ground_xy[int(label_np[row][column])].append([row, column])   \n",
    "             \n",
    "for row in range(train_label_row):  \n",
    "    for column in range(train_label_column):\n",
    "        ground_xy_trainallData[count1] = [row, column]\n",
    "        count1 = count1 + 1\n",
    "        if train_label_np[row][column] != 255:\n",
    "            #catego = int(label_np[row][column])\n",
    "            # 使用 np.append() 向 ground_xy 数组追加坐标\n",
    "            #ground_xy[catego] = np.append(ground_xy[catego], np.array([[row, column]]), axis=0)\n",
    "\n",
    "            ground_xy_train[int(train_label_np[row][column])].append([row, column])    \n",
    "for row in range(test_label_row):  \n",
    "    for column in range(test_label_column):\n",
    "        ground_xy_testallData[count2] = [row, column]\n",
    "        count2 = count2 + 1\n",
    "        if test_label_np[row][column] != 255:\n",
    "            #catego = int(label_np[row][column])\n",
    "            # 使用 np.append() 向 ground_xy 数组追加坐标\n",
    "            #ground_xy[catego] = np.append(ground_xy[catego], np.array([[row, column]]), axis=0)\n",
    "\n",
    "            ground_xy_test[int(label_np[row][column])].append([row, column])  \n",
    "\n",
    "\n",
    "###各类别内部打乱\n",
    "for categories in range(Categories_Number):\n",
    "    ########\n",
    "    ground_xy[categories] = np.array(ground_xy[categories])\n",
    "    shuffle_array = np.arange(0, len(ground_xy[categories]), 1)\n",
    "    np.random.shuffle(shuffle_array)\n",
    "\n",
    "    ground_xy[categories] = ground_xy[categories][shuffle_array]\n",
    "    ########\n",
    "    ground_xy_train[categories] = np.array(ground_xy_train[categories])\n",
    "    shuffle_array = np.arange(0, len(ground_xy_train[categories]), 1)\n",
    "    np.random.shuffle(shuffle_array)\n",
    "\n",
    "    ground_xy_train[categories] = ground_xy_train[categories][shuffle_array]\n",
    "    ########\n",
    "    ground_xy_test[categories] = np.array(ground_xy_test[categories])\n",
    "    shuffle_array = np.arange(0, len(ground_xy_test[categories]), 1)\n",
    "    np.random.shuffle(shuffle_array)\n",
    "\n",
    "    ground_xy_test[categories] = ground_xy_test[categories][shuffle_array]\n",
    "\n",
    "    \n",
    "shuffle_array = np.arange(0, label_row * label_column, 1)\n",
    "np.random.shuffle(shuffle_array)\n",
    "ground_xy_allData = ground_xy_allData[shuffle_array]\n",
    "\n",
    "ground_xy_ltrain = []\n",
    "ground_xy_ltest = []\n",
    "label_train = []\n",
    "label_test = []\n",
    "\n",
    "for categories in range(Categories_Number):\n",
    "    categories_number_train = len(ground_xy_train[categories])\n",
    "    categories_number_test = len(ground_xy_test[categories])\n",
    "    for i in range(categories_number_train):\n",
    "        if i < int(categories_number_train * Train_Rate):\n",
    "            ground_xy_ltrain.append(ground_xy_train[categories][i])\n",
    "\n",
    "    for i in range(categories_number_test):\n",
    "        if i < int(categories_number_test * Train_Rate):\n",
    "            ground_xy_ltest.append(ground_xy_test[categories][i])\n",
    "    label_train = label_train + [categories for x in range(int(categories_number_train))]\n",
    "    label_test = label_test + [categories for x in range(categories_number_test)]\n",
    "\n",
    "label_train = np.array(label_train)\n",
    "label_test = np.array(label_test)\n",
    "ground_xy_ltrain = np.array(ground_xy_ltrain)\n",
    "ground_xy_ltest = np.array(ground_xy_ltest)\n",
    "\n",
    "print('训练样本数：', len(label_train))\n",
    "print('测试样本数：', len(label_test))\n"
   ]
  },
  {
   "cell_type": "code",
   "execution_count": 23,
   "metadata": {},
   "outputs": [],
   "source": [
    "\n",
    "shuffle_array0 = np.arange(0, len(label_train), 1)\n",
    "np.random.shuffle(shuffle_array0)\n",
    "label_train = label_train[shuffle_array0]\n",
    "ground_xy_ltrain = ground_xy_ltrain[shuffle_array0]\n",
    "#####\n",
    "shuffle_array1 = np.arange(0, len(label_test), 1)\n",
    "np.random.shuffle(shuffle_array1)\n",
    "label_test = label_test[shuffle_array1]\n",
    "ground_xy_ltest = ground_xy_ltest[shuffle_array1]\n",
    "\n",
    "\n",
    "label_train = torch.from_numpy(label_train).type(torch.LongTensor)\n",
    "label_test = torch.from_numpy(label_test).type(torch.LongTensor)\n",
    "ground_xy_ltrain = torch.from_numpy(ground_xy_ltrain).type(torch.LongTensor)\n",
    "ground_xy_ltest = torch.from_numpy(ground_xy_ltest).type(torch.LongTensor)\n",
    "ground_xy_allData = torch.from_numpy(ground_xy_allData).type(torch.LongTensor)\n"
   ]
  },
  {
   "cell_type": "code",
   "execution_count": null,
   "metadata": {},
   "outputs": [],
   "source": [
    "ms4 = to_tensor(ms4_np)\n",
    "pan = to_tensor(pan_np)\n",
    "alpha = np.array([0.67, 0.21, 0.00, 0.41])\n",
    "ms4 = np.transpose(ms4, (2, 0, 1))\n",
    "alpha = alpha.reshape(-1, 1, 1)\n",
    "MP = alpha * ms4\n",
    "I_m = np.sum(MP, axis=0, keepdims=False)#通过设置 keepdims=True，保持了结果的维度为 (3200, 3320, 1)，而不会直接变成 (3200, 3320)\n",
    "PT = pan - I_m\n",
    "MT = (1 - alpha) * ms4\n",
    "print(MP.shape, PT.shape, MP.shape)\n",
    "label_fu,label_pan,label_ms=[],[],[]"
   ]
  },
  {
   "cell_type": "code",
   "execution_count": null,
   "metadata": {},
   "outputs": [],
   "source": [
    "def image_gradient(img):\n",
    "    H, W = img.shape\n",
    "    gx = np.pad(np.diff(img, axis=0), ((0,1),(0,0)), 'constant')\n",
    "    gy = np.pad(np.diff(img, axis=1), ((0,0),(0,1)), 'constant')\n",
    "    gradient = abs(gx) + abs(gy)\n",
    "    return gradient\n",
    "def edge_dect(img):\n",
    "    nam=1e-9\n",
    "    apx=1e-10\n",
    "    return np.exp( -nam / ( (image_gradient(img)**4)+apx ) )\n",
    "\n",
    "print(MP.shape, PT.shape, MP.shape)"
   ]
  },
  {
   "cell_type": "code",
   "execution_count": null,
   "metadata": {},
   "outputs": [],
   "source": [
    "# edge detection operator\n",
    "W_mi = [ edge_dect(ms4[i]) for i in range(4) ]\n",
    "W_pi = edge_dect(pan)\n",
    "m_sum = (ms4[1] + ms4[2] + ms4[3] + ms4[0]) /4\n",
    " \n",
    "gamma = 0.3 #0 < gamma < 0.5\n",
    "W_m  = [ms4[i] / m_sum*( W_mi[i] ) for i in range(4)]\n",
    "W_m_av = (ms4[1] + ms4[2] + ms4[3] + ms4[0]) / m_sum /4\n",
    "W_m_ava =( W_m[1] + W_m[2] + W_m[3] + W_m[0] ) / 4\n",
    "W_p = gamma * W_m_ava + (1 - gamma) * W_m_av * W_pi\n",
    "\n",
    "\n",
    "\n",
    "# fusion\n",
    "PT_1 = PT * W_p\n",
    "MT_1 = np.zeros_like(MT)\n",
    "MP_1 = np.zeros_like(MP)\n",
    "for i in range(4):\n",
    "    MT_1[i] = MT[i] * W_m[i]\n",
    "    MP_1[i] = MP[i] * W_m[i]\n",
    "\n",
    "#PT_1 = to_tensor(PT_1)\n",
    "#MT_1 = to_tensor(MT_1)\n",
    "#MP_1 = to_tensor(MP_1)\n",
    "\"\"\"\n",
    "print(\"The bias between I_m and pan is\", end=': ')\n",
    "print(np.sum((PT_1)**2))   \n",
    "\n",
    "m_bias = 0\n",
    "for i in range(4):\n",
    "    m_bias = m_bias + np.sum(MT[i] )**2\n",
    "print(\"The bias between I_m and msf is\", end=': ')\n",
    "print(m_bias) \n",
    "\"\"\"\n",
    "print(MT.shape, MT.dtype, np.min(MT), np.max(MT))\n",
    "print(PT.shape, PT.dtype, np.min(PT), np.max(PT))\n",
    "print(MP.shape, MP.dtype, np.min(MP), np.max(MP))  \n"
   ]
  },
  {
   "cell_type": "code",
   "execution_count": null,
   "metadata": {},
   "outputs": [],
   "source": [
    "#MP = torch.from_numpy(MP).type(torch.FloatTensor)\n",
    "#PT = torch.from_numpy(PT).type(torch.FloatTensor)\n",
    "#MT = torch.from_numpy(MT).type(torch.FloatTensor)\n",
    "MT = np.transpose(MT, (1, 2, 0))\n",
    "MP = np.transpose(MP, (1, 2, 0))\n",
    "PT_1 = to_tensor(PT_1)\n",
    "MT_1 = to_tensor(MT_1)\n",
    "MP_1 = to_tensor(MP_1)\n",
    "print(MT_1.shape, MT_1.dtype, np.min(MT_1), np.max(MT_1))\n",
    "print(PT_1.shape, PT_1.dtype, np.min(PT_1), np.max(PT_1))\n",
    "print(MP_1.shape, MP_1.dtype, np.min(MP_1), np.max(MP_1))"
   ]
  },
  {
   "cell_type": "code",
   "execution_count": null,
   "metadata": {},
   "outputs": [],
   "source": [
    "# 返回图像、位置、标签\n",
    "class MyData(Dataset):\n",
    "    def __init__(self, MT, MP, PT, Label, xy, cut_size):\n",
    "        self.train_data1 = MT\n",
    "        self.train_data2 = MP\n",
    "        self.train_data3 = PT\n",
    "        self.train_labels = Label\n",
    "        self.gt_xy = xy\n",
    "        self.cut_ms_size = cut_size\n",
    "        self.cut_pan_size = cut_size\n",
    "    def __getitem__(self, index):\n",
    "        x_ms, y_ms = self.gt_xy[index]\n",
    "        x_pan = int( x_ms)      \n",
    "        y_pan = int( y_ms)\n",
    "        image_MT = self.train_data1[:, x_ms:x_ms + self.cut_ms_size,\n",
    "                   y_ms:y_ms + self.cut_ms_size]\n",
    "        image_MP = self.train_data2[:, x_ms:x_ms + self.cut_ms_size,\n",
    "                   y_ms:y_ms + self.cut_ms_size]        \n",
    "        image_PT = self.train_data3[x_pan:x_pan + self.cut_pan_size,\n",
    "                    y_pan:y_pan + self.cut_pan_size]\n",
    "        \n",
    "\n",
    "        locate_xy = self.gt_xy[index]\n",
    "        target = self.train_labels[index]\n",
    "\n",
    "\n",
    "\n",
    "        # 打印数据形状\n",
    "        #print(\"Shape of MP image:\", image_MT.shape)\n",
    "        #print(\"Shape of MP image:\", image_MP.shape)\n",
    "        #print(\"Shape of PT image:\", image_PT.shape)\n",
    "        #print(\"Target label:\", target)\n",
    "        #print(\"Location:\", locate_xy)\n",
    "        return image_MT, image_MP, image_PT, target, locate_xy\n",
    "\n",
    "    def __len__(self):\n",
    "        return len(self.gt_xy)\n",
    "#只返回图像、位置   \n",
    "class MyData1(Dataset):\n",
    "    def __init__(self, MT, MP, PT, xy, cut_size):\n",
    "        self.train_data1 = MT\n",
    "        self.train_data2 = MP\n",
    "        self.train_data3 = PT\n",
    "        self.gt_xy = xy\n",
    "        self.cut_ms_size = cut_size\n",
    "        self.cut_pan_size = cut_size\n",
    "\n",
    "    def __getitem__(self, index):\n",
    "        x_ms, y_ms = self.gt_xy[index]\n",
    "        x_pan = int(x_ms)  \n",
    "        y_pan = int(y_ms)\n",
    "\n",
    "        image_MT = self.train_data1[:, x_ms:x_ms + self.cut_ms_size,\n",
    "                   y_ms:y_ms + self.cut_ms_size]\n",
    "        image_MP = self.train_data2[:, x_ms:x_ms + self.cut_ms_size,\n",
    "                   y_ms:y_ms + self.cut_ms_size]        \n",
    "        image_PT = self.train_data3[x_pan:x_pan + self.cut_pan_size,\n",
    "                    y_pan:y_pan + self.cut_pan_size]        \n",
    "\n",
    "        locate_xy = self.gt_xy[index]\n",
    "\n",
    "        return image_MT, image_MP, image_PT, locate_xy\n",
    "\n",
    "    def __len__(self):\n",
    "        return len(self.gt_xy)"
   ]
  },
  {
   "cell_type": "code",
   "execution_count": null,
   "metadata": {},
   "outputs": [],
   "source": [
    "train_data = MyData(MT_1, MP_1, PT_1, label_train,ground_xy_ltrain, Ms4_patch_size)\n",
    "test_data = MyData(MT_1, MP_1, PT_1, label_test ,ground_xy_ltest, Ms4_patch_size)\n",
    "all_data = MyData1(MT_1, MP_1, PT_1, ground_xy_allData, Ms4_patch_size)\n",
    "train_loader = DataLoader(dataset=train_data, batch_size=BATCH_SIZE, shuffle=True, num_workers=0)\n",
    "test_loader = DataLoader(dataset=test_data, batch_size=BATCH_SIZE, shuffle=False, num_workers=0)\n",
    "all_data_loader = DataLoader(dataset=all_data, batch_size=BATCH_SIZE,shuffle=False,num_workers=0)\n",
    "\n",
    "\n",
    "#for batch in train_loader:\n",
    "    #pass\n",
    "\"\"\"\n",
    "Shape of MP image: (4, 64, 64)\n",
    "Shape of MP image: (4, 64, 64)\n",
    "Shape of PT image: (64, 64)\n",
    "Target label: tensor(0)\n",
    "\"\"\""
   ]
  },
  {
   "cell_type": "code",
   "execution_count": null,
   "metadata": {},
   "outputs": [],
   "source": []
  }
 ],
 "metadata": {
  "kernelspec": {
   "display_name": "pytorch",
   "language": "python",
   "name": "python3"
  },
  "language_info": {
   "codemirror_mode": {
    "name": "ipython",
    "version": 3
   },
   "file_extension": ".py",
   "mimetype": "text/x-python",
   "name": "python",
   "nbconvert_exporter": "python",
   "pygments_lexer": "ipython3",
   "version": "3.8.18"
  }
 },
 "nbformat": 4,
 "nbformat_minor": 2
}
